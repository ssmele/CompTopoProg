{
 "cells": [
  {
   "cell_type": "markdown",
   "metadata": {},
   "source": [
    "HOFER EXPLORATION: Using this notebook to reduce the Hofer code to its barebones so we know what is necessary for the model."
   ]
  },
  {
   "cell_type": "code",
   "execution_count": 1,
   "metadata": {},
   "outputs": [],
   "source": [
    "import numpy as np\n",
    "import torch\n",
    "import matplotlib.pyplot as plt\n",
    "import warnings\n",
    "from glob import glob"
   ]
  },
  {
   "cell_type": "markdown",
   "metadata": {},
   "source": [
    "# Transformation"
   ]
  },
  {
   "cell_type": "code",
   "execution_count": 2,
   "metadata": {},
   "outputs": [],
   "source": [
    "class UpperDiagonalThresholdedLogTransform:\n",
    "    def __init__(self, nu):\n",
    "        self.b_1 = (torch.Tensor([1, 1]) / np.sqrt(2))\n",
    "        self.b_2 = (torch.Tensor([-1, 1]) / np.sqrt(2))\n",
    "        self.nu = nu\n",
    "\n",
    "    def __call__(self, dgm):\n",
    "        if len(dgm) == 0:\n",
    "            return dgm\n",
    "        \n",
    "        self.b_1 = self.b_1.to(dgm.device)\n",
    "        self.b_2 = self.b_2.to(dgm.device)\n",
    "\n",
    "        x = torch.mul(dgm, self.b_1.repeat(dgm.size(0), 1))\n",
    "        x = torch.sum(x, 1).squeeze()\n",
    "        y = torch.mul(dgm, self.b_2.repeat( dgm.size(0), 1))\n",
    "        y = torch.sum(y, 1).squeeze()\n",
    "        i = (y <= self.nu)\n",
    "        y[i] = torch.log(y[i] / self.nu)*self.nu + self.nu\n",
    "        ret = torch.stack([x, y], 1)\n",
    "        return ret\n"
   ]
  },
  {
   "cell_type": "code",
   "execution_count": 11,
   "metadata": {},
   "outputs": [],
   "source": [
    "ex = np.load('./barcodes/dim1/2000_01_SIN_data_dim1.npy')"
   ]
  },
  {
   "cell_type": "code",
   "execution_count": 13,
   "metadata": {},
   "outputs": [
    {
     "data": {
      "text/plain": [
       "(1113, 2)"
      ]
     },
     "execution_count": 13,
     "metadata": {},
     "output_type": "execute_result"
    }
   ],
   "source": [
    "ex.shape"
   ]
  },
  {
   "cell_type": "code",
   "execution_count": 12,
   "metadata": {},
   "outputs": [
    {
     "data": {
      "text/plain": [
       "<matplotlib.collections.PathCollection at 0x1bb834c7f28>"
      ]
     },
     "execution_count": 12,
     "metadata": {},
     "output_type": "execute_result"
    },
    {
     "data": {
      "image/png": "[encoded data removed]",
      "text/plain": [
       "<Figure size 432x288 with 1 Axes>"
      ]
     },
     "metadata": {
      "needs_background": "light"
     },
     "output_type": "display_data"
    }
   ],
   "source": [
    "transformer = UpperDiagonalThresholdedLogTransform(.1)\n",
    "t = transformer(torch.tensor(ex, dtype=torch.float32))\n",
    "y = t.numpy()\n",
    "plt.scatter(y[:,0], y[:,1])"
   ]
  },
  {
   "cell_type": "markdown",
   "metadata": {},
   "source": [
    "### SLayer"
   ]
  },
  {
   "cell_type": "code",
   "execution_count": 84,
   "metadata": {},
   "outputs": [],
   "source": [
    "def prepare_batch(batch: [Tensor], point_dim: int=None)->tuple:\n",
    "    \"\"\"\n",
    "    This method 'vectorizes' the multiset in order to take advances of gpu processing.\n",
    "    The policy is to embed all multisets in batch to the highest dimensionality\n",
    "    occurring in batch, i.e., max(t.size()[0] for t in batch).\n",
    "    :param batch:\n",
    "    :param point_dim:\n",
    "    :return: Tensor with size batch_size x n_max_points x point_dim\n",
    "    \"\"\"\n",
    "    if point_dim is None:\n",
    "        point_dim = batch[0].size(1)\n",
    "    assert (all(x.size(1) == point_dim for x in batch if len(x) != 0))\n",
    "\n",
    "    batch_size = len(batch)\n",
    "    batch_max_points = max([t.size(0) for t in batch])\n",
    "    input_device = batch[0].device\n",
    "\n",
    "    if batch_max_points == 0:\n",
    "        # if we are here, batch consists only of empty diagrams.\n",
    "        batch_max_points = 1\n",
    "\n",
    "    # This will later be used to set the dummy points to zero in the output.\n",
    "    not_dummy_points = torch.zeros(batch_size, batch_max_points, device=input_device)\n",
    "\n",
    "    prepared_batch = []\n",
    "\n",
    "    for i, multi_set in enumerate(batch):\n",
    "        n_points = multi_set.size(0)\n",
    "\n",
    "        prepared_dgm = torch.zeros(batch_max_points, point_dim, device=input_device)\n",
    "\n",
    "        if n_points > 0:\n",
    "            index_selection = torch.tensor(range(n_points), device=input_device)\n",
    "\n",
    "            prepared_dgm.index_add_(0, index_selection, multi_set)\n",
    "\n",
    "            not_dummy_points[i, :n_points] = 1\n",
    "\n",
    "        prepared_batch.append(prepared_dgm)\n",
    "\n",
    "    prepared_batch = torch.stack(prepared_batch)\n",
    "\n",
    "    return prepared_batch, not_dummy_points, batch_max_points, batch_size\n",
    "\n",
    "\n",
    "def is_prepared_batch(input):\n",
    "    if not (isinstance(input, tuple) and len(input) == 4):\n",
    "        return False\n",
    "    else:\n",
    "        batch, not_dummy_points, max_points, batch_size = input\n",
    "        return isinstance(batch, Tensor) and isinstance(not_dummy_points, Tensor) and max_points > 0 and batch_size > 0\n",
    "\n",
    "\n",
    "def is_list_of_tensors(input):\n",
    "    try:\n",
    "        return all([isinstance(x, Tensor) for x in input])\n",
    "\n",
    "    except TypeError:\n",
    "        return False\n",
    "\n",
    "\n",
    "def prepare_batch_if_necessary(input, point_dimension=None):\n",
    "    batch, not_dummy_points, max_points, batch_size = None, None, None, None\n",
    "\n",
    "    if is_prepared_batch(input):\n",
    "        batch, not_dummy_points, max_points, batch_size = input\n",
    "    elif is_list_of_tensors(input):\n",
    "        if point_dimension is None:\n",
    "            point_dimension = input[0].size(1)\n",
    "\n",
    "        batch, not_dummy_points, max_points, batch_size = prepare_batch(input, point_dimension)\n",
    "\n",
    "    else:\n",
    "        raise ValueError(\n",
    "            'SLayer does not recognize input format! Expecting [Tensor] or prepared batch. Not {}'.format(input))\n",
    "\n",
    "    return batch, not_dummy_points, max_points, batch_size\n",
    "\n",
    "def parameter_init_from_arg(arg, size, default, scalar_is_valid=False):\n",
    "    if isinstance(arg, (int, float)):\n",
    "        if not scalar_is_valid:\n",
    "            raise ValueError(\"Scalar initialization values are not valid. Got {} expected Tensor of size {}.\"\n",
    "                             .format(arg, size))\n",
    "        return torch.Tensor(*size).fill_(arg)\n",
    "    elif isinstance(arg, torch.Tensor):\n",
    "        assert(arg.size() == size)\n",
    "        return arg\n",
    "    elif arg is None:\n",
    "        if default in [torch.rand, torch.randn, torch.ones, torch.ones_like]:\n",
    "            return default(*size)\n",
    "        else:\n",
    "            return default(size)\n",
    "    else:\n",
    "        raise ValueError('Cannot handle parameter initialization. Got \"{}\" '.format(arg))\n",
    "\n",
    "class SLayerExponential(torch.nn.Module):\n",
    "    \"\"\"\n",
    "    proposed input layer for multisets [1].\n",
    "    \"\"\"\n",
    "    def __init__(self, n_elements: int,\n",
    "                 point_dimension: int=2,\n",
    "                 centers_init: Tensor=None,\n",
    "                 sharpness_init: Tensor=None):\n",
    "        \"\"\"\n",
    "        :param n_elements: number of structure elements used\n",
    "        :param point_dimension: dimensionality of the points of which the input multi set consists of\n",
    "        :param centers_init: the initialization for the centers of the structure elements\n",
    "        :param sharpness_init: initialization for the sharpness of the structure elements\n",
    "        \"\"\"\n",
    "        super().__init__()\n",
    "\n",
    "        self.n_elements = n_elements\n",
    "        self.point_dimension = point_dimension\n",
    "\n",
    "        expected_init_size = (self.n_elements, self.point_dimension)\n",
    "\n",
    "        centers_init = parameter_init_from_arg(centers_init, expected_init_size, torch.rand, scalar_is_valid=False)\n",
    "        sharpness_init = parameter_init_from_arg(sharpness_init, expected_init_size, lambda size: torch.ones(*size)*3)\n",
    "\n",
    "        self.centers = Parameter(centers_init)\n",
    "        self.sharpness = Parameter(sharpness_init)\n",
    "\n",
    "    def forward(self, input)->Tensor:\n",
    "        batch, not_dummy_points, max_points, batch_size = prepare_batch_if_necessary(input,\n",
    "                                                                                     point_dimension=self.point_dimension)\n",
    "\n",
    "\n",
    "        batch = torch.cat([batch] * self.n_elements, 1)\n",
    "\n",
    "        not_dummy_points = torch.cat([not_dummy_points] * self.n_elements, 1)\n",
    "\n",
    "        centers = torch.cat([self.centers] * max_points, 1)\n",
    "        centers = centers.view(-1, self.point_dimension)\n",
    "        centers = torch.stack([centers] * batch_size, 0)\n",
    "\n",
    "        sharpness = torch.pow(self.sharpness, 2)\n",
    "        sharpness = torch.cat([sharpness] * max_points, 1)\n",
    "        sharpness = sharpness.view(-1, self.point_dimension)\n",
    "        sharpness = torch.stack([sharpness] * batch_size, 0)\n",
    "\n",
    "        x = centers - batch\n",
    "        x = x.pow(2)\n",
    "        x = torch.mul(x, sharpness)\n",
    "        x = torch.sum(x, 2)\n",
    "        x = torch.exp(-x)\n",
    "        x = torch.mul(x, not_dummy_points)\n",
    "        x = x.view(batch_size, self.n_elements, -1)\n",
    "        x = torch.sum(x, 2)\n",
    "        x = x.squeeze()\n",
    "\n",
    "        return x\n",
    "\n",
    "    def __repr__(self):\n",
    "        return 'SLayerExponential (... -> {} )'.format(self.n_elements)\n",
    "\n",
    "class SLayer(SLayerExponential):\n",
    "    def __init__(self, *args,  **kwargs):\n",
    "        super().__init__(*args, **kwargs)\n",
    "        warnings.warn(\"Renaming in progress. In future use SLayerExponential.\", FutureWarning)"
   ]
  },
  {
   "cell_type": "code",
   "execution_count": 85,
   "metadata": {},
   "outputs": [
    {
     "name": "stderr",
     "output_type": "stream",
     "text": [
      "c:\\users\\stone\\desktop\\spring2019\\computationaltopology\\project\\proj_64\\lib\\site-packages\\ipykernel_launcher.py:159: FutureWarning: Renaming in progress. In future use SLayerExponential.\n"
     ]
    }
   ],
   "source": [
    "sl = SLayer(75)"
   ]
  },
  {
   "cell_type": "code",
   "execution_count": 87,
   "metadata": {},
   "outputs": [
    {
     "data": {
      "text/plain": [
       "tensor([[7.5399e-04, 8.1541e-01, 3.0558e-05, 3.6511e-03, 4.8451e-07, 1.7118e+00,\n",
       "         1.6325e-09, 7.1934e-05, 1.9116e-08, 1.2151e-04, 6.3446e-01, 4.3455e-04,\n",
       "         3.3199e-09, 7.6988e-09, 3.8588e-10, 2.8627e-02, 2.6332e-04, 1.1084e-03,\n",
       "         6.5933e-02, 2.9580e-04, 7.1572e-09, 1.2694e-05, 1.1865e-02, 1.2547e-06,\n",
       "         6.0360e-04, 1.1283e-01, 7.6537e-04, 1.1485e-03, 3.8569e-06, 4.7151e-01,\n",
       "         4.8199e-07, 1.1448e-06, 6.9134e-06, 2.4575e-09, 5.4510e-03, 1.3991e-02,\n",
       "         7.7947e-03, 4.0029e-03, 1.8370e-06, 7.8974e-06, 1.6367e+00, 2.4451e-01,\n",
       "         2.2706e-08, 4.2004e-09, 2.1340e-05, 3.5129e-05, 5.4880e-02, 7.7857e-07,\n",
       "         3.6881e-05, 6.3418e-02, 2.9504e-05, 2.1616e-06, 1.3388e-07, 1.2033e-01,\n",
       "         1.1202e-03, 2.7102e-04, 2.5601e-05, 2.4994e-01, 7.6192e-03, 4.4982e-04,\n",
       "         7.3555e-02, 3.4146e-09, 2.7747e+00, 1.6962e-01, 3.8370e-04, 3.3427e-09,\n",
       "         2.5047e-05, 2.2315e-05, 3.5160e-04, 8.0645e-09, 4.6029e-03, 1.2576e+00,\n",
       "         3.2638e-01, 1.5121e-03, 1.3502e-05],\n",
       "        [7.5399e-04, 8.1541e-01, 3.0558e-05, 3.6511e-03, 4.8451e-07, 1.7118e+00,\n",
       "         1.6325e-09, 7.1934e-05, 1.9116e-08, 1.2151e-04, 6.3446e-01, 4.3455e-04,\n",
       "         3.3199e-09, 7.6988e-09, 3.8588e-10, 2.8627e-02, 2.6332e-04, 1.1084e-03,\n",
       "         6.5933e-02, 2.9580e-04, 7.1572e-09, 1.2694e-05, 1.1865e-02, 1.2547e-06,\n",
       "         6.0360e-04, 1.1283e-01, 7.6537e-04, 1.1485e-03, 3.8569e-06, 4.7151e-01,\n",
       "         4.8199e-07, 1.1448e-06, 6.9134e-06, 2.4575e-09, 5.4510e-03, 1.3991e-02,\n",
       "         7.7947e-03, 4.0029e-03, 1.8370e-06, 7.8974e-06, 1.6367e+00, 2.4451e-01,\n",
       "         2.2706e-08, 4.2004e-09, 2.1340e-05, 3.5129e-05, 5.4880e-02, 7.7857e-07,\n",
       "         3.6881e-05, 6.3418e-02, 2.9504e-05, 2.1616e-06, 1.3388e-07, 1.2033e-01,\n",
       "         1.1202e-03, 2.7102e-04, 2.5601e-05, 2.4994e-01, 7.6192e-03, 4.4982e-04,\n",
       "         7.3555e-02, 3.4146e-09, 2.7747e+00, 1.6962e-01, 3.8370e-04, 3.3427e-09,\n",
       "         2.5047e-05, 2.2315e-05, 3.5160e-04, 8.0645e-09, 4.6029e-03, 1.2576e+00,\n",
       "         3.2638e-01, 1.5121e-03, 1.3502e-05],\n",
       "        [7.5399e-04, 8.1541e-01, 3.0558e-05, 3.6511e-03, 4.8451e-07, 1.7118e+00,\n",
       "         1.6325e-09, 7.1934e-05, 1.9116e-08, 1.2151e-04, 6.3446e-01, 4.3455e-04,\n",
       "         3.3199e-09, 7.6988e-09, 3.8588e-10, 2.8627e-02, 2.6332e-04, 1.1084e-03,\n",
       "         6.5933e-02, 2.9580e-04, 7.1572e-09, 1.2694e-05, 1.1865e-02, 1.2547e-06,\n",
       "         6.0360e-04, 1.1283e-01, 7.6537e-04, 1.1485e-03, 3.8569e-06, 4.7151e-01,\n",
       "         4.8199e-07, 1.1448e-06, 6.9134e-06, 2.4575e-09, 5.4510e-03, 1.3991e-02,\n",
       "         7.7947e-03, 4.0029e-03, 1.8370e-06, 7.8974e-06, 1.6367e+00, 2.4451e-01,\n",
       "         2.2706e-08, 4.2004e-09, 2.1340e-05, 3.5129e-05, 5.4880e-02, 7.7857e-07,\n",
       "         3.6881e-05, 6.3418e-02, 2.9504e-05, 2.1616e-06, 1.3388e-07, 1.2033e-01,\n",
       "         1.1202e-03, 2.7102e-04, 2.5601e-05, 2.4994e-01, 7.6192e-03, 4.4982e-04,\n",
       "         7.3555e-02, 3.4146e-09, 2.7747e+00, 1.6962e-01, 3.8370e-04, 3.3427e-09,\n",
       "         2.5047e-05, 2.2315e-05, 3.5160e-04, 8.0645e-09, 4.6029e-03, 1.2576e+00,\n",
       "         3.2638e-01, 1.5121e-03, 1.3502e-05],\n",
       "        [7.5399e-04, 8.1541e-01, 3.0558e-05, 3.6511e-03, 4.8451e-07, 1.7118e+00,\n",
       "         1.6325e-09, 7.1934e-05, 1.9116e-08, 1.2151e-04, 6.3446e-01, 4.3455e-04,\n",
       "         3.3199e-09, 7.6988e-09, 3.8588e-10, 2.8627e-02, 2.6332e-04, 1.1084e-03,\n",
       "         6.5933e-02, 2.9580e-04, 7.1572e-09, 1.2694e-05, 1.1865e-02, 1.2547e-06,\n",
       "         6.0360e-04, 1.1283e-01, 7.6537e-04, 1.1485e-03, 3.8569e-06, 4.7151e-01,\n",
       "         4.8199e-07, 1.1448e-06, 6.9134e-06, 2.4575e-09, 5.4510e-03, 1.3991e-02,\n",
       "         7.7947e-03, 4.0029e-03, 1.8370e-06, 7.8974e-06, 1.6367e+00, 2.4451e-01,\n",
       "         2.2706e-08, 4.2004e-09, 2.1340e-05, 3.5129e-05, 5.4880e-02, 7.7857e-07,\n",
       "         3.6881e-05, 6.3418e-02, 2.9504e-05, 2.1616e-06, 1.3388e-07, 1.2033e-01,\n",
       "         1.1202e-03, 2.7102e-04, 2.5601e-05, 2.4994e-01, 7.6192e-03, 4.4982e-04,\n",
       "         7.3555e-02, 3.4146e-09, 2.7747e+00, 1.6962e-01, 3.8370e-04, 3.3427e-09,\n",
       "         2.5047e-05, 2.2315e-05, 3.5160e-04, 8.0645e-09, 4.6029e-03, 1.2576e+00,\n",
       "         3.2638e-01, 1.5121e-03, 1.3502e-05],\n",
       "        [7.5399e-04, 8.1541e-01, 3.0558e-05, 3.6511e-03, 4.8451e-07, 1.7118e+00,\n",
       "         1.6325e-09, 7.1934e-05, 1.9116e-08, 1.2151e-04, 6.3446e-01, 4.3455e-04,\n",
       "         3.3199e-09, 7.6988e-09, 3.8588e-10, 2.8627e-02, 2.6332e-04, 1.1084e-03,\n",
       "         6.5933e-02, 2.9580e-04, 7.1572e-09, 1.2694e-05, 1.1865e-02, 1.2547e-06,\n",
       "         6.0360e-04, 1.1283e-01, 7.6537e-04, 1.1485e-03, 3.8569e-06, 4.7151e-01,\n",
       "         4.8199e-07, 1.1448e-06, 6.9134e-06, 2.4575e-09, 5.4510e-03, 1.3991e-02,\n",
       "         7.7947e-03, 4.0029e-03, 1.8370e-06, 7.8974e-06, 1.6367e+00, 2.4451e-01,\n",
       "         2.2706e-08, 4.2004e-09, 2.1340e-05, 3.5129e-05, 5.4880e-02, 7.7857e-07,\n",
       "         3.6881e-05, 6.3418e-02, 2.9504e-05, 2.1616e-06, 1.3388e-07, 1.2033e-01,\n",
       "         1.1202e-03, 2.7102e-04, 2.5601e-05, 2.4994e-01, 7.6192e-03, 4.4982e-04,\n",
       "         7.3555e-02, 3.4146e-09, 2.7747e+00, 1.6962e-01, 3.8370e-04, 3.3427e-09,\n",
       "         2.5047e-05, 2.2315e-05, 3.5160e-04, 8.0645e-09, 4.6029e-03, 1.2576e+00,\n",
       "         3.2638e-01, 1.5121e-03, 1.3502e-05]], grad_fn=<SqueezeBackward0>)"
      ]
     },
     "execution_count": 87,
     "metadata": {},
     "output_type": "execute_result"
    }
   ],
   "source": [
    "sl([t,t,t,t,t])"
   ]
  }
 ],
 "metadata": {
  "kernelspec": {
   "display_name": "Python 3",
   "language": "python",
   "name": "python3"
  },
  "language_info": {
   "codemirror_mode": {
    "name": "ipython",
    "version": 3
   },
   "file_extension": ".py",
   "mimetype": "text/x-python",
   "name": "python",
   "nbconvert_exporter": "python",
   "pygments_lexer": "ipython3",
   "version": "3.6.3"
  }
 },
 "nbformat": 4,
 "nbformat_minor": 2
}

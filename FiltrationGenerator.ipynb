{
 "cells": [
  {
   "cell_type": "code",
   "execution_count": 1,
   "metadata": {},
   "outputs": [],
   "source": [
    "import numpy as np\n",
    "from glob import glob\n",
    "import matplotlib.pyplot as plt\n",
    "import os"
   ]
  },
  {
   "cell_type": "markdown",
   "metadata": {},
   "source": [
    "# BoundaryDiagrams"
   ]
  },
  {
   "cell_type": "code",
   "execution_count": 2,
   "metadata": {},
   "outputs": [],
   "source": [
    "data_files = glob('./data/*.pkl')"
   ]
  },
  {
   "cell_type": "code",
   "execution_count": 3,
   "metadata": {},
   "outputs": [
    {
     "data": {
      "text/plain": [
       "348"
      ]
     },
     "execution_count": 3,
     "metadata": {},
     "output_type": "execute_result"
    }
   ],
   "source": [
    "len(data_files)"
   ]
  },
  {
   "cell_type": "code",
   "execution_count": 4,
   "metadata": {},
   "outputs": [],
   "source": [
    "def edge_hueristic(img, filtration_num, percent_to_take):\n",
    "    \"\"\"\n",
    "    :param img: Numpy array representing the image.\n",
    "    :param filtration_num: Number used to represent non background color for the image.\n",
    "    :param percent_to_take: number between 0-1 that represents percentage of edges to take.\n",
    "    \"\"\"\n",
    "    edge_img = np.zeros(shape=img.shape)\n",
    "    # Go through each pixel that is not a boundary.\n",
    "    for ix in np.argwhere(img > filtration_num):\n",
    "        # Grad a 3x3 grid around the pixel.\n",
    "        grid = img[ix[0]-1: ix[0]+2, \n",
    "                   ix[1]-1: ix[1]+2]\n",
    "        # If any background colors are near the point its on a boundary location.\n",
    "        if 0 in grid and np.random.rand() <= percent_to_take:\n",
    "            edge_img[ix[0], ix[1]] = 1\n",
    "    return edge_img"
   ]
  },
  {
   "cell_type": "code",
   "execution_count": 7,
   "metadata": {},
   "outputs": [],
   "source": [
    "def clean_data(data):\n",
    "    data[data == -1] = 0\n",
    "    data[143:167, 223:247][data[143:167, 223:247] == 0] = 1\n",
    "    return data "
   ]
  },
  {
   "cell_type": "markdown",
   "metadata": {},
   "source": [
    "# Generating point clouds"
   ]
  },
  {
   "cell_type": "code",
   "execution_count": 45,
   "metadata": {},
   "outputs": [],
   "source": [
    "for f in data_files:\n",
    "    d = np.load(f)\n",
    "    d = clean_data(d)\n",
    "    \n",
    "    edge_d = edge_hueristic(d, filtration_num=0, percent_to_take=1)\n",
    "    np.savetxt('./point_clouds/' + f.split('\\\\')[-1] + \".txt\", np.argwhere(edge_d == 1), fmt='%d')"
   ]
  },
  {
   "cell_type": "code",
   "execution_count": 56,
   "metadata": {},
   "outputs": [
    {
     "data": {
      "text/plain": [
       "['./barcodes\\\\1989_01_SIN_data_barcode.txt']"
      ]
     },
     "execution_count": 56,
     "metadata": {},
     "output_type": "execute_result"
    }
   ],
   "source": [
    "what = glob('./barcodes/*')\n",
    "what"
   ]
  },
  {
   "cell_type": "code",
   "execution_count": 59,
   "metadata": {},
   "outputs": [],
   "source": [
    "if \"./barcodes\\\\1989_01_SIN_data_barcode.txt\" in what:\n",
    "    print('what')"
   ]
  },
  {
   "cell_type": "code",
   "execution_count": null,
   "metadata": {},
   "outputs": [
    {
     "name": "stdout",
     "output_type": "stream",
     "text": [
      "Working on 2007_01_SIN_data\n",
      "Working on 2007_02_SIN_data\n",
      "Working on 2007_03_SIN_data\n",
      "Working on 2007_04_SIN_data\n",
      "Working on 2007_05_SIN_data\n",
      "Working on 2007_06_SIN_data\n",
      "Working on 2007_07_SIN_data\n",
      "Working on 2007_08_SIN_data\n",
      "Working on 2007_09_SIN_data\n",
      "Working on 2007_10_SIN_data\n",
      "Working on 2007_11_SIN_data\n",
      "Working on 2007_12_SIN_data\n",
      "Working on 2008_01_SIN_data\n"
     ]
    }
   ],
   "source": [
    "already_processed = glob('./barcodes/*')\n",
    "for file in glob('./point_clouds/*')[216:264]:\n",
    "    file_name = file.split('\\\\')[-1].split('.')[0]\n",
    "    if \"./barcodes\\\\{}_barcode.txt\".format(file_name) in already_processed:\n",
    "        print(\"Skipping {}\".format(file_name))\n",
    "    else:\n",
    "        print(\"Working on {}\".format(file_name))\n",
    "        os.system('ripser.exe point_clouds/{point_cloud_file}.pkl.txt --format point-cloud --dim 1 --threshold 500 >> barcodes/{dest_file}'.format(point_cloud_file=file_name, dest_file=file_name + '_barcode.txt'))"
   ]
  },
  {
   "cell_type": "code",
   "execution_count": null,
   "metadata": {},
   "outputs": [],
   "source": [
    "1+1"
   ]
  }
 ],
 "metadata": {
  "kernelspec": {
   "display_name": "Python 3",
   "language": "python",
   "name": "python3"
  },
  "language_info": {
   "codemirror_mode": {
    "name": "ipython",
    "version": 3
   },
   "file_extension": ".py",
   "mimetype": "text/x-python",
   "name": "python",
   "nbconvert_exporter": "python",
   "pygments_lexer": "ipython3",
   "version": "3.7.2"
  }
 },
 "nbformat": 4,
 "nbformat_minor": 2
}

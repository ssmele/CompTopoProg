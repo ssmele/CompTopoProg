{
 "cells": [
  {
   "cell_type": "code",
   "execution_count": 1,
   "metadata": {},
   "outputs": [],
   "source": [
    "import numpy as np\n",
    "import matplotlib.pyplot as plt"
   ]
  },
  {
   "cell_type": "code",
   "execution_count": 2,
   "metadata": {},
   "outputs": [],
   "source": [
    "data = np.load('./data/1996_10_SIN_data.pkl')"
   ]
  },
  {
   "cell_type": "code",
   "execution_count": 4,
   "metadata": {},
   "outputs": [
    {
     "data": {
      "text/plain": [
       "(304, 448)"
      ]
     },
     "execution_count": 4,
     "metadata": {},
     "output_type": "execute_result"
    }
   ],
   "source": [
    "data.shape"
   ]
  },
  {
   "cell_type": "code",
   "execution_count": 5,
   "metadata": {},
   "outputs": [
    {
     "data": {
      "text/plain": [
       "(array([-1.        ,  0.        ,  0.01      ,  0.02      ,  0.03      ,\n",
       "         0.04      ,  0.05      ,  0.06      ,  0.07      ,  0.08      ,\n",
       "         0.09      ,  0.1       ,  0.11      ,  0.12      ,  0.13      ,\n",
       "         0.14      ,  0.15      ,  0.16      ,  0.17      ,  0.18      ,\n",
       "         0.19      ,  0.2       ,  0.21      ,  0.22      ,  0.22999999,\n",
       "         0.23999999,  0.24999999,  0.25999999,  0.26999999,  0.27999999,\n",
       "         0.28999999,  0.29999999,  0.30999999,  0.31999999,  0.32999999,\n",
       "         0.33999999,  0.34999999,  0.35999999,  0.36999999,  0.37999999,\n",
       "         0.38999999,  0.39999999,  0.40999999,  0.41999999,  0.42999999,\n",
       "         0.43999999,  0.44999999,  0.45999999,  0.46999999,  0.47999999,\n",
       "         0.48999999,  0.49999999,  0.50999999,  0.51999999,  0.52999999,\n",
       "         0.53999999,  0.54999999,  0.55999999,  0.56999999,  0.57999999,\n",
       "         0.58999999,  0.59999999,  0.60999999,  0.61999999,  0.62999999,\n",
       "         0.63999999,  0.64999999,  0.65999999,  0.66999999,  0.67999998,\n",
       "         0.68999998,  0.69999998,  0.70999998,  0.71999998,  0.72999998,\n",
       "         0.73999998,  0.74999998,  0.75999998,  0.76999998,  0.77999998,\n",
       "         0.78999998,  0.79999998,  0.80999998,  0.81999998,  0.82999998,\n",
       "         0.83999998,  0.84999998,  0.85999998,  0.86999998,  0.87999998,\n",
       "         0.88999998,  0.89999998,  0.90999998,  0.91999998,  0.92999998,\n",
       "         0.93999998,  0.94999998,  0.95999998,  0.96999998,  0.97999998,\n",
       "         0.98999998,  0.99999998]),\n",
       " array([69398, 50849,   319,   153,   137,   112,   100,    92,    75,\n",
       "           65,    61,    50,    50,    45,    30,    34,    37,    39,\n",
       "           36,    34,    31,    38,    31,    33,    24,    26,    29,\n",
       "           26,    36,    24,    26,    29,    33,    28,    32,    31,\n",
       "           37,    22,    24,    25,    21,    30,    23,    36,    30,\n",
       "           26,    23,    41,    40,    35,    50,    41,    45,    42,\n",
       "           43,    46,    37,    56,    41,    46,    45,    44,    46,\n",
       "           53,    46,    50,    43,    43,    63,    45,    55,    47,\n",
       "           48,    40,    45,    60,    53,    50,    60,    66,    65,\n",
       "           57,    47,    69,    85,    81,    51,    57,    83,    70,\n",
       "           73,    74,   108,    99,   111,   155,   328,   856,  1659,\n",
       "         2525,  4229,  1255]))"
      ]
     },
     "execution_count": 5,
     "metadata": {},
     "output_type": "execute_result"
    }
   ],
   "source": [
    "np.unique(data, return_counts=True)"
   ]
  },
  {
   "cell_type": "code",
   "execution_count": 6,
   "metadata": {},
   "outputs": [],
   "source": [
    "data[data == -1] = 0\n",
    "data[100:200, ]"
   ]
  },
  {
   "cell_type": "code",
   "execution_count": 12,
   "metadata": {},
   "outputs": [
    {
     "data": {
      "text/plain": [
       "<matplotlib.image.AxesImage at 0x13e9fd30>"
      ]
     },
     "execution_count": 12,
     "metadata": {},
     "output_type": "execute_result"
    },
    {
     "data": {
      "image/png": "[encoded data removed]",
      "text/plain": [
       "<Figure size 432x288 with 1 Axes>"
      ]
     },
     "metadata": {
      "needs_background": "light"
     },
     "output_type": "display_data"
    }
   ],
   "source": [
    "plt.imshow(data[100:200, 200:250])"
   ]
  },
  {
   "cell_type": "code",
   "execution_count": 8,
   "metadata": {},
   "outputs": [
    {
     "data": {
      "text/plain": [
       "<matplotlib.image.AxesImage at 0x1a5f5866a90>"
      ]
     },
     "execution_count": 8,
     "metadata": {},
     "output_type": "execute_result"
    }
   ],
   "source": [
    "plt.figure(figsize=(10,10))\n",
    "plt.imshow(data)"
   ]
  },
  {
   "cell_type": "code",
   "execution_count": 9,
   "metadata": {},
   "outputs": [],
   "source": [
    "def extract_boundary(image):\n",
    "    boundary_pts=[]\n",
    "    prev_pixel=image[0][0]\n",
    "    for (x,y),  pixel in np.ndenumerate(image):\n",
    "\n",
    "        if x-1>0 and x+1<image.shape[0] and y-1>0 and  y+1<image.shape[1]:\n",
    "            if image[x-1][y]!=pixel:\n",
    "                boundary_pts.append((x,y))\n",
    "            # elif image[x+1][y]!=pixel:\n",
    "            #     boundary_pts.append((x,y))\n",
    "            # elif image[x][y-1]!=pixel:\n",
    "            #     boundary_pts.append((x,y))\n",
    "            elif image[x][y+1]!=pixel:\n",
    "                boundary_pts.append((x,y))\n",
    "        if x==image.shape[0]-1 and pixel>0:\n",
    "             # print('yo')\n",
    "            boundary_pts.append((x,y))\n",
    "        if  x==2 and pixel>0:\n",
    "            # print('yo')\n",
    "            boundary_pts.append((x,y))\n",
    "        if  y==image.shape[1]-1 and pixel>0:\n",
    "            # print('yo')\n",
    "            boundary_pts.append((x,y))\n",
    "        if  y==2 and pixel>0:\n",
    "            # print('yo')\n",
    "            boundary_pts.append((x,y))\n",
    "        prev_pixel=pixel"
   ]
  },
  {
   "cell_type": "code",
   "execution_count": null,
   "metadata": {},
   "outputs": [],
   "source": [
    "as;ldkfja;sldkfjb"
   ]
  }
 ],
 "metadata": {
  "kernelspec": {
   "display_name": "Python 3",
   "language": "python",
   "name": "python3"
  },
  "language_info": {
   "codemirror_mode": {
    "name": "ipython",
    "version": 3
   },
   "file_extension": ".py",
   "mimetype": "text/x-python",
   "name": "python",
   "nbconvert_exporter": "python",
   "pygments_lexer": "ipython3",
   "version": "3.6.3"
  }
 },
 "nbformat": 4,
 "nbformat_minor": 2
}

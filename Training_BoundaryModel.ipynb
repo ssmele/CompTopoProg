{
 "cells": [
  {
   "cell_type": "code",
   "execution_count": 1,
   "metadata": {
    "collapsed": true
   },
   "outputs": [],
   "source": [
    "import torch\n",
    "import numpy as np\n",
    "import matplotlib.pyplot as plt\n",
    "from glob import glob\n",
    "from PIL import Image\n",
    "from matplotlib import cm\n",
    "from torch.utils.data import Dataset, DataLoader\n",
    "from torch.tensor import Tensor\n",
    "from torch.nn.parameter import Parameter\n",
    "from torch.nn.modules.module import Module\n",
    "\n",
    "from hofer import SLayer, UpperDiagonalThresholdedLogTransform, prepare_batch\n",
    "         \n",
    "import warnings\n",
    "\n",
    "from sklearn.model_selection import train_test_split\n",
    "%matplotlib inline"
   ]
  },
  {
   "cell_type": "markdown",
   "metadata": {},
   "source": [
    "# Setting up device to use"
   ]
  },
  {
   "cell_type": "code",
   "execution_count": 2,
   "metadata": {},
   "outputs": [],
   "source": [
    "device = torch.device('cuda')"
   ]
  },
  {
   "cell_type": "markdown",
   "metadata": {},
   "source": [
    "# Dataset and Data Loader"
   ]
  },
  {
   "cell_type": "code",
   "execution_count": 3,
   "metadata": {
    "collapsed": true
   },
   "outputs": [],
   "source": [
    "def clean_data(data):\n",
    "    data[data == -1] = 0\n",
    "    data[143:167, 223:247][data[143:167, 223:247] == 0] = 1\n",
    "    return data \n",
    "\n",
    "def resize_data(data):\n",
    "    im = Image.fromarray(np.uint8(cm.gist_earth(data, alpha=None)*255)[:, :, :3])\n",
    "    resized_data = np.array(im.resize((112, 76)).convert('L'))\n",
    "    return resized_data/resized_data.max()\n",
    "\n",
    "class SeaIceDataset(Dataset):\n",
    "    \n",
    "    def __init__(self, seq_len, data_glob=glob('./data/*.pkl'), return_dims=False):\n",
    "        self.seq_len = seq_len\n",
    "        self.data_files = data_glob\n",
    "        self.return_dims = return_dims\n",
    "        \n",
    "    def __len__(self):\n",
    "        return len(self.data_files) - (self.seq_len + 1)\n",
    "    \n",
    "    def __getitem__(self, ix):\n",
    "        X = torch.tensor([resize_data(clean_data(np.array(np.load(d)))) for d in self.data_files[ix:ix+self.seq_len]], dtype=torch.float32)\n",
    "        y = resize_data(clean_data(np.load(self.data_files[ix+self.seq_len+1]))).flatten().astype(np.float32)\n",
    "        \n",
    "        if self.return_dims:\n",
    "            trans = UpperDiagonalThresholdedLogTransform(.1)\n",
    "            # Read in the dim0, and dim1 data.\n",
    "            dim0 = [trans(torch.tensor(np.load('./barcodes/dim0/{}'.format(d.split('/')[-1].split('.')[0] + '_dim0.npy')))) for d in self.data_files[ix:ix+self.seq_len]]\n",
    "            dim1 = [trans(torch.tensor(np.load('./barcodes/dim1/{}'.format(d.split('/')[-1].split('.')[0] + '_dim1.npy')))) for d in self.data_files[ix:ix+self.seq_len]]\n",
    "            return X, dim0, dim1, y\n",
    "        else:\n",
    "            return X, y"
   ]
  },
  {
   "cell_type": "markdown",
   "metadata": {},
   "source": [
    "# Setting up Model"
   ]
  },
  {
   "cell_type": "code",
   "execution_count": 4,
   "metadata": {
    "collapsed": true
   },
   "outputs": [],
   "source": [
    "  \n",
    "class autoencoder(torch.nn.Module):\n",
    "    def __init__(self):\n",
    "        super(autoencoder, self).__init__()\n",
    "        self.encoder = torch.nn.Sequential(\n",
    "            torch.nn.Conv2d(1, 16, 3,  padding=1),\n",
    "            torch.nn.BatchNorm2d(16),# b, 16, 10, 10\n",
    "            torch.nn.ReLU(True),\n",
    "            torch.nn.Conv2d(16, 16, 3, padding=1),\n",
    "            torch.nn.BatchNorm2d(16),# b, 16, 10, 10\n",
    "            torch.nn.ReLU(True),\n",
    "            torch.nn.MaxPool2d(kernel_size=(2,2)),\n",
    "            \n",
    "            torch.nn.Conv2d(16, 8, 3, padding=1),  # b, 8, 3, 3\n",
    "            torch.nn.BatchNorm2d(8),\n",
    "            torch.nn.ReLU(True),\n",
    "            torch.nn.Conv2d(8, 1, 3, padding=1),  # b, 8, 3, 3\n",
    "            torch.nn.BatchNorm2d(1),\n",
    "            torch.nn.ReLU(True),\n",
    "            torch.nn.MaxPool2d(kernel_size=(2,2))\n",
    "        )\n",
    "        self.decoder = nn.Sequential(\n",
    "            torch.nn.Conv2d(1, 8, 3, padding=1),\n",
    "            torch.nn.BatchNorm2d(8),# b, 16, 10, 10\n",
    "            torch.nn.ReLU(True),\n",
    "            torch.nn.Conv2d(8, 16, 3, padding=1),\n",
    "            torch.nn.BatchNorm2d(16),# b, 16, 10, 10\n",
    "            torch.nn.ReLU(True),\n",
    "            torch.nn.ConvTranspose2d(16, 16, kernel_size=(2,2), stride=2),\n",
    "            \n",
    "            # b, 16, 5, 5\n",
    "            torch.nn.Conv2d(16, 8, 3, padding=1),\n",
    "            torch.nn.BatchNorm2d(8),# b, 16, 10, 10\n",
    "            torch.nn.ReLU(True),\n",
    "            torch.nn.Conv2d(8, 8, 3, padding=1),\n",
    "            torch.nn.BatchNorm2d(8),# b, 16, 10, 10\n",
    "            torch.nn.ReLU(True),\n",
    "            torch.nn.ConvTranspose2d(8, 1, kernel_size=(2,2), stride=2),\n",
    "#             nn.ConvTranspose2d(8, 1, 2, stride=2, padding=1),  # b, 1, 28, 28\n",
    "            torch.nn.Sigmoid()\n",
    "        )\n",
    "\n",
    "    def forward(self, x):\n",
    "        x = self.encoder(x)\n",
    "        x = self.decoder(x)\n",
    "        return x\n",
    "    \n",
    "    \n",
    "class AutoLSTM(torch.nn.Module):\n",
    "    \n",
    "    def __init__(self, encoder, decoder, input_dim, batch_size, hidden_dim, seq_length, num_layers, homology=False, N=75):\n",
    "        super(AutoLSTM, self).__init__()\n",
    "        \n",
    "        # LSTM Variables.\n",
    "        self.seq_length = seq_length\n",
    "        self.num_layers = num_layers\n",
    "        self.batch_size = batch_size\n",
    "        self.hidden_dim = hidden_dim\n",
    "        self.input_size = input_dim\n",
    "        \n",
    "        # Homology info.\n",
    "        self.homology = homology\n",
    "        self.N = N\n",
    "        \n",
    "        # Encoder, decoder models.\n",
    "        self.encoder = encoder\n",
    "        self.decoder = decoder\n",
    "        \n",
    "        # Add the encoder to the model and turn off gradients for it.\n",
    "        self.add_module('encoder', self.encoder)\n",
    "        self.decoder.eval()\n",
    "        for param in self.encoder.parameters():\n",
    "            param.requires_grad = False\n",
    "        \n",
    "        # Adding decoder letting model change up its gradients.\n",
    "        self.add_module('decoder', self.decoder)\n",
    "        self.decoder.eval()\n",
    "        for param in self.decoder.parameters():\n",
    "            param.requires_grad = False\n",
    "            \n",
    "        # Increase input for topo signatures.\n",
    "        if self.homology:\n",
    "            self.input_size = self.input_size + self.N*2\n",
    "            self.slayer_dim0 = SLayer(self.N)\n",
    "            self.slayer_dim1 = SLayer(self.N)\n",
    "        else:\n",
    "            self.N = 0\n",
    "            \n",
    "        self.lstm = torch.nn.LSTM(self.input_size, self.hidden_dim, num_layers=self.num_layers, \n",
    "                                  batch_first=True, dropout=.1)\n",
    "        self.hidden = self.init_hidden()\n",
    "        \n",
    "    staticmethod\n",
    "    def collation_station(self, batch):\n",
    "        \"\"\"\n",
    "        Custom collation method for joining the batchs together\n",
    "        based on seq length also.\n",
    "        \"\"\"\n",
    "        # Collate X, and y batches as normal.\n",
    "        X = torch.stack([b[0] for b in batch], 0)\n",
    "        y = torch.stack([torch.from_numpy(b[-1]) for b in batch], 0)\n",
    "        \n",
    "        # For each batch prepare the dim0 and dim1 homology features together.\n",
    "        dim0_batch = []\n",
    "        dim1_batch = []\n",
    "        for b in batch:\n",
    "            dim0_batch += b[1]\n",
    "            dim1_batch += b[2]\n",
    "        dim0 = prepare_batch(dim0_batch)\n",
    "        del dim0_batch\n",
    "        dim1 = prepare_batch(dim1_batch)\n",
    "        del dim1_batch\n",
    "        return X, dim0, dim1, y\n",
    "        \n",
    "    def init_hidden(self):\n",
    "        # This is what we'll initialise our hidden state as\n",
    "        return (torch.randn(self.num_layers, self.batch_size, self.hidden_dim, device=device),\n",
    "                torch.randn(self.num_layers, self.batch_size, self.hidden_dim, device=device))\n",
    "    \n",
    "    def forward(self, x, dim0=torch.tensor([], device=device), dim1=torch.tensor([], device=device)):\n",
    "        # X is (batch, seq, w, h)\n",
    "        # Run inputs throuh conv nets.\n",
    "        x = torch.cat([self.encoder(x[:, [ix], :, :]) for ix in range(self.seq_length)], dim=1)\n",
    "        \n",
    "        # Concatenate them.\n",
    "        x = x.view(-1, self.seq_length, self.input_size - self.N*2)\n",
    "        \n",
    "        # Add the homology features.\n",
    "        if self.homology:\n",
    "            x = torch.cat([x, \n",
    "                           self.slayer_dim0(dim0).view(-1, self.seq_length, self.N), \n",
    "                           self.slayer_dim1(dim1).view(-1, self.seq_length, self.N)], dim=2)\n",
    "            del dim0, dim1\n",
    "\n",
    "        # Run through the lstm network.\n",
    "        x, self.hidden = self.lstm(x, self.hidden)   \n",
    "        \n",
    "        # Run through the final decoder.\n",
    "        x = self.decoder(x[:, -1, :].view(-1, 1, 19, 28))\n",
    "        x = x.view(-1, 1, 8512)\n",
    "        return x"
   ]
  },
  {
   "cell_type": "markdown",
   "metadata": {},
   "source": [
    "# Training params"
   ]
  },
  {
   "cell_type": "code",
   "execution_count": 5,
   "metadata": {
    "collapsed": true
   },
   "outputs": [],
   "source": [
    "seq_length = 6\n",
    "num_layers = 4\n",
    "batch_size = 8\n",
    "hidden_dim = 19*28\n",
    "input_size = 19*28\n",
    "N = 25\n",
    "n_epochs = 25"
   ]
  },
  {
   "cell_type": "markdown",
   "metadata": {},
   "source": [
    "# Data/model setup"
   ]
  },
  {
   "cell_type": "code",
   "execution_count": 14,
   "metadata": {},
   "outputs": [],
   "source": [
    "auto = torch.load('autoencoder_paperv4.model')"
   ]
  },
  {
   "cell_type": "code",
   "execution_count": null,
   "metadata": {},
   "outputs": [],
   "source": [
    "model = AutoLSTM(\n",
    "    homology=True, N=N,\n",
    "    input_dim=input_size, seq_length=seq_length,\n",
    "    hidden_dim=hidden_dim, batch_size=batch_size,\n",
    "    num_layers=num_layers, encoder=auto.encoder, decoder=auto.decoder,).to(device)"
   ]
  },
  {
   "cell_type": "code",
   "execution_count": 15,
   "metadata": {},
   "outputs": [
    {
     "name": "stdout",
     "output_type": "stream",
     "text": [
      "train_size: 333, val_size: 15\n"
     ]
    }
   ],
   "source": [
    "all_glob = glob('./data/*.pkl')\n",
    "train_glob = all_glob[:len(all_glob)-(seq_length*2)-3]\n",
    "val_glob = all_glob[len(all_glob)-(seq_length*2)-3:]\n",
    "print(\"train_size: {}, val_size: {}\".format(len(train_glob), len(val_glob)))\n",
    "train_dataset = SeaIceDataset(seq_length, data_glob=train_glob, return_dims=True)\n",
    "val_dataset = SeaIceDataset(seq_length, data_glob=val_glob, return_dims=True)\n",
    "train_loader = DataLoader(train_dataset, shuffle=True, batch_size=batch_size, num_workers=0, drop_last=True, collate_fn=model.collation_station)\n",
    "val_loader = DataLoader(val_dataset, shuffle=True, batch_size=batch_size, num_workers=0, drop_last=True, collate_fn=model.collation_station)"
   ]
  },
  {
   "cell_type": "code",
   "execution_count": 9,
   "metadata": {},
   "outputs": [
    {
     "name": "stdout",
     "output_type": "stream",
     "text": [
      "train_size: 333, val_size: 15\n"
     ]
    },
    {
     "name": "stderr",
     "output_type": "stream",
     "text": [
      "/uufs/chpc.utah.edu/common/home/u0897718/comp_topo/CompTopoProg/hofer.py:197: FutureWarning: Renaming in progress. In future use SLayerExponential.\n",
      "  warnings.warn(\"Renaming in progress. In future use SLayerExponential.\", FutureWarning)\n"
     ]
    }
   ],
   "source": [
    "optimizer = torch.optim.Adam(model.parameters(), lr=0.000001, weight_decay=1e-5)\n",
    "criterion = torch.nn.MSELoss()\n",
    "\n",
    "loss_mask = torch.tensor(np.load('resize_mask.npy').flatten().astype('float32')).cuda()"
   ]
  },
  {
   "cell_type": "markdown",
   "metadata": {},
   "source": [
    "# Homology Training"
   ]
  },
  {
   "cell_type": "code",
   "execution_count": null,
   "metadata": {},
   "outputs": [],
   "source": [
    "val_storage = []\n",
    "train_storage = []"
   ]
  },
  {
   "cell_type": "code",
   "execution_count": null,
   "metadata": {},
   "outputs": [
    {
     "name": "stdout",
     "output_type": "stream",
     "text": [
      "epoch: 25\n",
      "Training Loop:\n",
      "loss: 0.03368135541677475\n",
      "val_loss: 0.025109345093369484\n",
      "epoch: 26\n",
      "Training Loop:\n"
     ]
    },
    {
     "name": "stderr",
     "output_type": "stream",
     "text": [
      "/uufs/chpc.utah.edu/common/home/u0897718/MYTF/lib/python3.6/site-packages/torch/serialization.py:251: UserWarning: Couldn't retrieve source code for container of type AutoLSTM. It won't be checked for correctness upon loading.\n",
      "  \"type \" + obj.__name__ + \". It won't be checked \"\n"
     ]
    },
    {
     "name": "stdout",
     "output_type": "stream",
     "text": [
      "loss: 0.032114624977111816\n",
      "val_loss: 0.023882966488599777\n",
      "epoch: 27\n",
      "Training Loop:\n",
      "loss: 0.034410566091537476\n",
      "val_loss: 0.02339307963848114\n",
      "epoch: 28\n",
      "Training Loop:\n"
     ]
    }
   ],
   "source": [
    "for epoch in range(n_epochs):\n",
    "    epoch = epoch + n_epochs\n",
    "    print(\"epoch: {}\".format(epoch))\n",
    "    \n",
    "    model.train()\n",
    "    train_losses = []\n",
    "    print(\"Training Loop:\")\n",
    "    for ix, (X, dim0, dim1, y) in enumerate(train_loader):\n",
    "        # Empty out the grads.\n",
    "        optimizer.zero_grad()\n",
    "        \n",
    "        X = X.to(device)\n",
    "        y = y.to(device)\n",
    "        dim0 = (dim0[0].cuda(), dim0[1].cuda(), dim0[2], dim0[3])\n",
    "        dim1 = (dim1[0].cuda(), dim1[1].cuda(), dim1[2], dim1[3])\n",
    "        \n",
    "        out = model(X, dim0, dim1)\n",
    "        \n",
    "        loss = criterion(out*loss_mask, y*loss_mask)\n",
    "        loss.backward(retain_graph=True)\n",
    "        optimizer.step()\n",
    "        train_losses.append(loss.detach().item())\n",
    "        \n",
    "        del out, X, y, loss, dim0, dim1\n",
    "    print(\"loss: {}\".format(train_losses[-1]))\n",
    "    train_storage.append(np.mean(train_losses))\n",
    "    \n",
    "    model.eval()\n",
    "    val_losses = []\n",
    "    with torch.no_grad():\n",
    "        for X, dim0, dim1, y in val_loader:\n",
    "            # CUDA\n",
    "            X = X.to(device)\n",
    "            y = y.to(device)\n",
    "            dim0 = (dim0[0].cuda(), dim0[1].cuda(), dim0[2], dim0[3])\n",
    "            dim1 = (dim1[0].cuda(), dim1[1].cuda(), dim1[2], dim1[3])\n",
    "            \n",
    "            out = model(X, dim0, dim1)\n",
    "            del X, dim0, dim1\n",
    "            loss = criterion(out*loss_mask, y*loss_mask)\n",
    "            del y\n",
    "            val_losses.append(loss.detach().item())\n",
    "            del loss\n",
    "        print(\"val_loss: {}\".format(np.mean(val_losses)))\n",
    "        \n",
    "    val_storage.append(np.mean(val_losses))\n",
    "        \n",
    "    torch.save(model, './models/homology_model_e{}_l{:4f}'.format(epoch, np.mean(val_losses)))"
   ]
  },
  {
   "cell_type": "markdown",
   "metadata": {},
   "source": [
    "# Saving and plotting validation scores."
   ]
  },
  {
   "cell_type": "code",
   "execution_count": 6,
   "metadata": {},
   "outputs": [],
   "source": [
    "val_mods = glob(\"./models/homology_model*_l*\")"
   ]
  },
  {
   "cell_type": "code",
   "execution_count": 7,
   "metadata": {},
   "outputs": [
    {
     "data": {
      "text/plain": [
       "['./models/homology_model_e35_l0.021917',\n",
       " './models/homology_model_e36_l0.021686',\n",
       " './models/homology_model_e37_l0.021703',\n",
       " './models/homology_model_e38_l0.021808',\n",
       " './models/homology_model_e39_l0.021556',\n",
       " './models/homology_model_e40_l0.021742',\n",
       " './models/homology_model_e41_l0.021592',\n",
       " './models/homology_model_e42_l0.021457',\n",
       " './models/homology_model_e43_l0.021516',\n",
       " './models/homology_model_e44_l0.021401',\n",
       " './models/homology_model_e45_l0.021303',\n",
       " './models/homology_model_e46_l0.021217',\n",
       " './models/homology_model_e47_l0.021237',\n",
       " './models/homology_model_e48_l0.021051',\n",
       " './models/homology_model_e49_l0.021444']"
      ]
     },
     "execution_count": 7,
     "metadata": {},
     "output_type": "execute_result"
    }
   ],
   "source": [
    "val_mods"
   ]
  },
  {
   "cell_type": "code",
   "execution_count": 72,
   "metadata": {},
   "outputs": [],
   "source": [
    "vals = []\n",
    "for mod in val_mods:\n",
    "    vals.append(float(mod.split('_l')[1]))\n",
    "vals = np.array(vals)\n",
    "np.save('homology_val_scorse', vals)"
   ]
  },
  {
   "cell_type": "markdown",
   "metadata": {},
   "source": [
    "# Getting best model"
   ]
  },
  {
   "cell_type": "code",
   "execution_count": 11,
   "metadata": {},
   "outputs": [],
   "source": [
    "best_model_ix = -2"
   ]
  },
  {
   "cell_type": "code",
   "execution_count": 12,
   "metadata": {},
   "outputs": [
    {
     "data": {
      "text/plain": [
       "'./models/homology_model_e48_l0.021051'"
      ]
     },
     "execution_count": 12,
     "metadata": {},
     "output_type": "execute_result"
    }
   ],
   "source": [
    "val_mods[-2]"
   ]
  },
  {
   "cell_type": "code",
   "execution_count": 13,
   "metadata": {},
   "outputs": [],
   "source": [
    "model = torch.load(val_mods[-2])"
   ]
  },
  {
   "cell_type": "markdown",
   "metadata": {},
   "source": [
    "### Setting up non randomized val loader to ensure same predictions are found."
   ]
  },
  {
   "cell_type": "code",
   "execution_count": 16,
   "metadata": {},
   "outputs": [],
   "source": [
    "val_loader = DataLoader(val_dataset, shuffle=False, batch_size=batch_size, num_workers=0, drop_last=True, collate_fn=model.collation_station)"
   ]
  },
  {
   "cell_type": "code",
   "execution_count": 23,
   "metadata": {},
   "outputs": [
    {
     "data": {
      "image/png": "[encoded data removed]",
      "text/plain": [
       "<Figure size 1440x1440 with 6 Axes>"
      ]
     },
     "metadata": {},
     "output_type": "display_data"
    },
    {
     "data": {
      "image/png": "[encoded data removed]",
      "text/plain": [
       "<Figure size 720x720 with 1 Axes>"
      ]
     },
     "metadata": {},
     "output_type": "display_data"
    },
    {
     "data": {
      "image/png": "[encoded data removed]",
      "text/plain": [
       "<Figure size 720x720 with 1 Axes>"
      ]
     },
     "metadata": {},
     "output_type": "display_data"
    }
   ],
   "source": [
    "batch_ix = 0\n",
    "for X, dim0, dim1, y in val_loader:\n",
    "    fig, axs = plt.subplots(nrows=1, ncols=6, figsize=(20,20))\n",
    "    for ix, ax in enumerate(axs):\n",
    "        ax.imshow(X[batch_ix, ix, :,:].cpu().numpy())\n",
    "        ax.set_title('t={}'.format(ix))\n",
    "    \n",
    "    fig = plt.figure(figsize=(10,10))\n",
    "    plt.imshow(y[batch_ix].cpu().numpy().reshape(76, 112))\n",
    "    \n",
    "    \n",
    "    X = X.cuda()\n",
    "    dim0 = (dim0[0].cuda(), dim0[1].cuda(), dim0[2], dim0[3])\n",
    "    dim1 = (dim1[0].cuda(), dim1[1].cuda(), dim1[2], dim1[3])\n",
    "    \n",
    "    preds = model(X, dim0, dim1)\n",
    "    fig = plt.figure(figsize=(10, 10))\n",
    "    plt.imshow(preds[batch_ix].detach().cpu().numpy().reshape(76, 112))\n",
    "    plt.title('Predited T=6, Boundary')\n",
    "    fig.savefig('./images/predicted_boundary.png')\n",
    "    break"
   ]
  }
 ],
 "metadata": {
  "kernelspec": {
   "display_name": "Python 3",
   "language": "python",
   "name": "python3"
  },
  "language_info": {
   "codemirror_mode": {
    "name": "ipython",
    "version": 3
   },
   "file_extension": ".py",
   "mimetype": "text/x-python",
   "name": "python",
   "nbconvert_exporter": "python",
   "pygments_lexer": "ipython3",
   "version": "3.6.3"
  }
 },
 "nbformat": 4,
 "nbformat_minor": 2
}

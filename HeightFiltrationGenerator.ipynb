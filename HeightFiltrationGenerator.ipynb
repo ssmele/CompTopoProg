{
 "cells": [
  {
   "cell_type": "markdown",
   "metadata": {},
   "source": [
    "# This notebook contains the logic for generationg the sublevel set height filtrations"
   ]
  },
  {
   "cell_type": "code",
   "execution_count": 1,
   "metadata": {
    "collapsed": true
   },
   "outputs": [],
   "source": [
    "import numpy as np\n",
    "from glob import glob\n",
    "import matplotlib.pyplot as plt\n",
    "import os"
   ]
  },
  {
   "cell_type": "markdown",
   "metadata": {},
   "source": [
    "# BoundaryDiagrams"
   ]
  },
  {
   "cell_type": "code",
   "execution_count": 2,
   "metadata": {
    "collapsed": true
   },
   "outputs": [],
   "source": [
    "data_files = glob('./data/*.pkl')"
   ]
  },
  {
   "cell_type": "code",
   "execution_count": 3,
   "metadata": {},
   "outputs": [
    {
     "data": {
      "text/plain": [
       "348"
      ]
     },
     "execution_count": 3,
     "metadata": {},
     "output_type": "execute_result"
    }
   ],
   "source": [
    "len(data_files)"
   ]
  },
  {
   "cell_type": "code",
   "execution_count": 8,
   "metadata": {
    "collapsed": true
   },
   "outputs": [],
   "source": [
    "def edge_hueristic(img, filtration_num, percent_to_take):\n",
    "    \"\"\"\n",
    "    :param img: Numpy array representing the image.\n",
    "    :param filtration_num: Number used to represent non background color for the image.\n",
    "    :param percent_to_take: number between 0-1 that represents percentage of edges to take.\n",
    "    \"\"\"\n",
    "    edge_img = np.zeros(shape=img.shape)\n",
    "    # Go through each pixel that is not a boundary.\n",
    "    for ix in np.argwhere(img > filtration_num):\n",
    "        # Grad a 3x3 grid around the pixel.\n",
    "        grid = img[ix[0]-1: ix[0]+2, \n",
    "                   ix[1]-1: ix[1]+2]\n",
    "#         print(np.any(x<filtration_num for x in grid))\n",
    "        # If any background colors are near the point its on a boundary location.\n",
    "        if np.any(np.where(grid<=filtration_num)) and np.random.rand() <= percent_to_take:\n",
    "            edge_img[ix[0], ix[1]] = 1\n",
    "    return edge_img"
   ]
  },
  {
   "cell_type": "code",
   "execution_count": 5,
   "metadata": {
    "collapsed": true
   },
   "outputs": [],
   "source": [
    "def clean_data(data):\n",
    "    data[data == -1] = 0\n",
    "    data[143:167, 223:247][data[143:167, 223:247] == 0] = 1\n",
    "    return data "
   ]
  },
  {
   "cell_type": "markdown",
   "metadata": {},
   "source": [
    "# Generating point clouds"
   ]
  },
  {
   "cell_type": "code",
   "execution_count": 7,
   "metadata": {},
   "outputs": [],
   "source": [
    "for f in data_files:\n",
    "    d = np.load(f)\n",
    "    d = clean_data(d)\n",
    "    \n",
    "    edge_d = edge_hueristic(d, filtration_num=0, percent_to_take=1)\n",
    "    np.savetxt('./point_clouds/' + f.split('\\\\')[-1] + \".txt\", np.argwhere(edge_d == 1), fmt='%d')"
   ]
  },
  {
   "cell_type": "code",
   "execution_count": null,
   "metadata": {},
   "outputs": [
    {
     "name": "stdout",
     "output_type": "stream",
     "text": [
      "Working on 2007_01_SIN_data\n",
      "Working on 2007_02_SIN_data\n",
      "Working on 2007_03_SIN_data\n",
      "Working on 2007_04_SIN_data\n",
      "Working on 2007_05_SIN_data\n",
      "Working on 2007_06_SIN_data\n",
      "Working on 2007_07_SIN_data\n",
      "Working on 2007_08_SIN_data\n",
      "Working on 2007_09_SIN_data\n",
      "Working on 2007_10_SIN_data\n",
      "Working on 2007_11_SIN_data\n",
      "Working on 2007_12_SIN_data\n",
      "Working on 2008_01_SIN_data\n"
     ]
    }
   ],
   "source": [
    "already_processed = glob('./barcodes/*')\n",
    "for file in glob('./point_clouds/*')[216:264]:\n",
    "    file_name = file.split('\\\\')[-1].split('.')[0]\n",
    "    if \"./barcodes\\\\{}_barcode.txt\".format(file_name) in already_processed:\n",
    "        print(\"Skipping {}\".format(file_name))\n",
    "    else:\n",
    "        print(\"Working on {}\".format(file_name))\n",
    "        os.system('ripser.exe point_clouds/{point_cloud_file}.pkl.txt --format point-cloud --dim 1 --threshold 500 >> barcodes/{dest_file}'.format(point_cloud_file=file_name, dest_file=file_name + '_barcode.txt'))"
   ]
  },
  {
   "cell_type": "code",
   "execution_count": 38,
   "metadata": {},
   "outputs": [
    {
     "name": "stdout",
     "output_type": "stream",
     "text": [
      "[0.  0.2 0.4 0.6 0.8]\n"
     ]
    },
    {
     "ename": "KeyboardInterrupt",
     "evalue": "",
     "output_type": "error",
     "traceback": [
      "\u001b[1;31m---------------------------------------------------------------------------\u001b[0m",
      "\u001b[1;31mKeyboardInterrupt\u001b[0m                         Traceback (most recent call last)",
      "\u001b[1;32m<ipython-input-38-3e1d6e200a98>\u001b[0m in \u001b[0;36m<module>\u001b[1;34m()\u001b[0m\n\u001b[0;32m      9\u001b[0m         \u001b[0md\u001b[0m \u001b[1;33m=\u001b[0m \u001b[0mclean_data\u001b[0m\u001b[1;33m(\u001b[0m\u001b[0md\u001b[0m\u001b[1;33m)\u001b[0m\u001b[1;33m\u001b[0m\u001b[0m\n\u001b[0;32m     10\u001b[0m \u001b[1;33m\u001b[0m\u001b[0m\n\u001b[1;32m---> 11\u001b[1;33m         \u001b[0medge_d\u001b[0m \u001b[1;33m=\u001b[0m \u001b[0medge_hueristic\u001b[0m\u001b[1;33m(\u001b[0m\u001b[0md\u001b[0m\u001b[1;33m,\u001b[0m \u001b[0mfiltration_num\u001b[0m\u001b[1;33m=\u001b[0m\u001b[0mheight\u001b[0m\u001b[1;33m,\u001b[0m \u001b[0mpercent_to_take\u001b[0m\u001b[1;33m=\u001b[0m\u001b[1;36m1\u001b[0m\u001b[1;33m)\u001b[0m\u001b[1;33m\u001b[0m\u001b[0m\n\u001b[0m\u001b[0;32m     12\u001b[0m         \u001b[0mpoints\u001b[0m\u001b[1;33m=\u001b[0m \u001b[0mnp\u001b[0m\u001b[1;33m.\u001b[0m\u001b[0margwhere\u001b[0m\u001b[1;33m(\u001b[0m\u001b[0medge_d\u001b[0m \u001b[1;33m==\u001b[0m \u001b[1;36m1\u001b[0m\u001b[1;33m)\u001b[0m\u001b[1;33m\u001b[0m\u001b[0m\n\u001b[0;32m     13\u001b[0m \u001b[1;33m\u001b[0m\u001b[0m\n",
      "\u001b[1;32m<ipython-input-8-afab2c99062b>\u001b[0m in \u001b[0;36medge_hueristic\u001b[1;34m(img, filtration_num, percent_to_take)\u001b[0m\n\u001b[0;32m     13\u001b[0m \u001b[1;31m#         print(np.any(x<filtration_num for x in grid))\u001b[0m\u001b[1;33m\u001b[0m\u001b[1;33m\u001b[0m\u001b[0m\n\u001b[0;32m     14\u001b[0m         \u001b[1;31m# If any background colors are near the point its on a boundary location.\u001b[0m\u001b[1;33m\u001b[0m\u001b[1;33m\u001b[0m\u001b[0m\n\u001b[1;32m---> 15\u001b[1;33m         \u001b[1;32mif\u001b[0m \u001b[0mnp\u001b[0m\u001b[1;33m.\u001b[0m\u001b[0many\u001b[0m\u001b[1;33m(\u001b[0m\u001b[0mnp\u001b[0m\u001b[1;33m.\u001b[0m\u001b[0mwhere\u001b[0m\u001b[1;33m(\u001b[0m\u001b[0mgrid\u001b[0m\u001b[1;33m<=\u001b[0m\u001b[0mfiltration_num\u001b[0m\u001b[1;33m)\u001b[0m\u001b[1;33m)\u001b[0m \u001b[1;32mand\u001b[0m \u001b[0mnp\u001b[0m\u001b[1;33m.\u001b[0m\u001b[0mrandom\u001b[0m\u001b[1;33m.\u001b[0m\u001b[0mrand\u001b[0m\u001b[1;33m(\u001b[0m\u001b[1;33m)\u001b[0m \u001b[1;33m<=\u001b[0m \u001b[0mpercent_to_take\u001b[0m\u001b[1;33m:\u001b[0m\u001b[1;33m\u001b[0m\u001b[0m\n\u001b[0m\u001b[0;32m     16\u001b[0m             \u001b[0medge_img\u001b[0m\u001b[1;33m[\u001b[0m\u001b[0mix\u001b[0m\u001b[1;33m[\u001b[0m\u001b[1;36m0\u001b[0m\u001b[1;33m]\u001b[0m\u001b[1;33m,\u001b[0m \u001b[0mix\u001b[0m\u001b[1;33m[\u001b[0m\u001b[1;36m1\u001b[0m\u001b[1;33m]\u001b[0m\u001b[1;33m]\u001b[0m \u001b[1;33m=\u001b[0m \u001b[1;36m1\u001b[0m\u001b[1;33m\u001b[0m\u001b[0m\n\u001b[0;32m     17\u001b[0m     \u001b[1;32mreturn\u001b[0m \u001b[0medge_img\u001b[0m\u001b[1;33m\u001b[0m\u001b[0m\n",
      "\u001b[1;32m~\\Anaconda3\\lib\\site-packages\\numpy\\core\\fromnumeric.py\u001b[0m in \u001b[0;36many\u001b[1;34m(a, axis, out, keepdims)\u001b[0m\n\u001b[0;32m   2012\u001b[0m \u001b[1;33m\u001b[0m\u001b[0m\n\u001b[0;32m   2013\u001b[0m     \"\"\"\n\u001b[1;32m-> 2014\u001b[1;33m     \u001b[0marr\u001b[0m \u001b[1;33m=\u001b[0m \u001b[0masanyarray\u001b[0m\u001b[1;33m(\u001b[0m\u001b[0ma\u001b[0m\u001b[1;33m)\u001b[0m\u001b[1;33m\u001b[0m\u001b[0m\n\u001b[0m\u001b[0;32m   2015\u001b[0m     \u001b[0mkwargs\u001b[0m \u001b[1;33m=\u001b[0m \u001b[1;33m{\u001b[0m\u001b[1;33m}\u001b[0m\u001b[1;33m\u001b[0m\u001b[0m\n\u001b[0;32m   2016\u001b[0m     \u001b[1;32mif\u001b[0m \u001b[0mkeepdims\u001b[0m \u001b[1;32mis\u001b[0m \u001b[1;32mnot\u001b[0m \u001b[0mnp\u001b[0m\u001b[1;33m.\u001b[0m\u001b[0m_NoValue\u001b[0m\u001b[1;33m:\u001b[0m\u001b[1;33m\u001b[0m\u001b[0m\n",
      "\u001b[1;32m~\\Anaconda3\\lib\\site-packages\\numpy\\core\\numeric.py\u001b[0m in \u001b[0;36masanyarray\u001b[1;34m(a, dtype, order)\u001b[0m\n\u001b[0;32m    542\u001b[0m \u001b[1;33m\u001b[0m\u001b[0m\n\u001b[0;32m    543\u001b[0m     \"\"\"\n\u001b[1;32m--> 544\u001b[1;33m     \u001b[1;32mreturn\u001b[0m \u001b[0marray\u001b[0m\u001b[1;33m(\u001b[0m\u001b[0ma\u001b[0m\u001b[1;33m,\u001b[0m \u001b[0mdtype\u001b[0m\u001b[1;33m,\u001b[0m \u001b[0mcopy\u001b[0m\u001b[1;33m=\u001b[0m\u001b[1;32mFalse\u001b[0m\u001b[1;33m,\u001b[0m \u001b[0morder\u001b[0m\u001b[1;33m=\u001b[0m\u001b[0morder\u001b[0m\u001b[1;33m,\u001b[0m \u001b[0msubok\u001b[0m\u001b[1;33m=\u001b[0m\u001b[1;32mTrue\u001b[0m\u001b[1;33m)\u001b[0m\u001b[1;33m\u001b[0m\u001b[0m\n\u001b[0m\u001b[0;32m    545\u001b[0m \u001b[1;33m\u001b[0m\u001b[0m\n\u001b[0;32m    546\u001b[0m \u001b[1;33m\u001b[0m\u001b[0m\n",
      "\u001b[1;31mKeyboardInterrupt\u001b[0m: "
     ]
    }
   ],
   "source": [
    "heights = np.arange(0,1,.2)\n",
    "print(heights)\n",
    "for f in data_files:\n",
    "    point_cloud=list()\n",
    "    point_cloud.append((2,0,0,0))\n",
    "    count=0\n",
    "    for height in heights:\n",
    "        d = np.load(f)\n",
    "        d = clean_data(d)\n",
    "\n",
    "        edge_d = edge_hueristic(d, filtration_num=height, percent_to_take=1)\n",
    "        points= np.argwhere(edge_d == 1)\n",
    "        \n",
    "        for point in points:\n",
    "            point_cloud.append((point[0],point[1],1,count))\n",
    "        count+=1\n",
    "#             print((point[0],point[1],height))\n",
    "#     print((point_cloud))\n",
    "    np.savetxt('./height_filtration/' + f.split('\\\\')[-1] + \".txt\", np.array(point_cloud), fmt='%d')"
   ]
  },
  {
   "cell_type": "code",
   "execution_count": 39,
   "metadata": {},
   "outputs": [
    {
     "name": "stdout",
     "output_type": "stream",
     "text": [
      "Working on 2007_01_SIN_data\n",
      "Working on 2007_02_SIN_data\n",
      "Working on 2007_03_SIN_data\n",
      "Working on 2007_04_SIN_data\n",
      "Working on 2007_05_SIN_data\n",
      "Working on 2007_06_SIN_data\n",
      "Working on 2007_07_SIN_data\n",
      "Working on 2007_08_SIN_data\n",
      "Working on 2007_09_SIN_data\n",
      "Working on 2007_10_SIN_data\n",
      "Working on 2007_11_SIN_data\n",
      "Working on 2007_12_SIN_data\n",
      "Working on 2008_01_SIN_data\n",
      "Working on 2008_02_SIN_data\n",
      "Working on 2008_03_SIN_data\n",
      "Working on 2008_04_SIN_data\n",
      "Working on 2008_05_SIN_data\n",
      "Working on 2008_06_SIN_data\n",
      "Working on 2008_07_SIN_data\n",
      "Working on 2008_08_SIN_data\n",
      "Working on 2008_09_SIN_data\n",
      "Working on 2008_10_SIN_data\n",
      "Working on 2008_11_SIN_data\n",
      "Working on 2008_12_SIN_data\n",
      "Working on 2009_01_SIN_data\n",
      "Working on 2009_02_SIN_data\n",
      "Working on 2009_03_SIN_data\n",
      "Working on 2009_04_SIN_data\n",
      "Working on 2009_05_SIN_data\n",
      "Working on 2009_06_SIN_data\n",
      "Working on 2009_07_SIN_data\n",
      "Working on 2009_08_SIN_data\n",
      "Working on 2009_09_SIN_data\n",
      "Working on 2009_10_SIN_data\n",
      "Working on 2009_11_SIN_data\n",
      "Working on 2009_12_SIN_data\n",
      "Working on 2010_01_SIN_data\n",
      "Working on 2010_02_SIN_data\n",
      "Working on 2010_03_SIN_data\n",
      "Working on 2010_04_SIN_data\n",
      "Working on 2010_05_SIN_data\n",
      "Working on 2010_06_SIN_data\n",
      "Working on 2010_07_SIN_data\n",
      "Working on 2010_08_SIN_data\n",
      "Working on 2010_09_SIN_data\n",
      "Working on 2010_10_SIN_data\n",
      "Working on 2010_11_SIN_data\n",
      "Working on 2010_12_SIN_data\n"
     ]
    }
   ],
   "source": [
    "already_processed = glob('./height_barcodes/*')\n",
    "for file in glob('./height_filtration/*')[216:264]:\n",
    "    file_name = file.split('\\\\')[-1].split('.')[0]\n",
    "    if \"./height_barcodes\\\\{}_barcode.txt\".format(file_name) in already_processed:\n",
    "        print(\"Skipping {}\".format(file_name))\n",
    "    else:\n",
    "        print(\"Working on {}\".format(file_name))\n",
    "        os.system('perseus.exe rips height_filtration/{point_cloud_file}.pkl.txt {dest_file}'.format(point_cloud_file=file_name, dest_file=file_name + '_barcode.txt'))"
   ]
  }
 ],
 "metadata": {
  "kernelspec": {
   "display_name": "Python 3",
   "language": "python",
   "name": "python3"
  },
  "language_info": {
   "codemirror_mode": {
    "name": "ipython",
    "version": 3
   },
   "file_extension": ".py",
   "mimetype": "text/x-python",
   "name": "python",
   "nbconvert_exporter": "python",
   "pygments_lexer": "ipython3",
   "version": "3.6.3"
  }
 },
 "nbformat": 4,
 "nbformat_minor": 2
}

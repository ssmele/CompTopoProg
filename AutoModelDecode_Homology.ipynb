{
 "cells": [
  {
   "cell_type": "markdown",
   "metadata": {},
   "source": [
    "# REVIEW THE WHOLE PROCESS WITH TORIN!"
   ]
  },
  {
   "cell_type": "code",
   "execution_count": 1,
   "metadata": {
    "collapsed": true
   },
   "outputs": [],
   "source": [
    "import torch\n",
    "import numpy as np\n",
    "import matplotlib.pyplot as plt\n",
    "from glob import glob\n",
    "from PIL import Image\n",
    "from matplotlib import cm\n",
    "from torch.utils.data import Dataset, DataLoader\n",
    "from torch.tensor import Tensor\n",
    "from torch.nn.parameter import Parameter\n",
    "from torch.nn.modules.module import Module\n",
    "\n",
    "from hofer import SLayer, UpperDiagonalThresholdedLogTransform, prepare_batch\n",
    "\n",
    "import warnings\n",
    "\n",
    "from sklearn.model_selection import train_test_split\n",
    "%matplotlib inline"
   ]
  },
  {
   "cell_type": "markdown",
   "metadata": {},
   "source": [
    "# Setting up device to use"
   ]
  },
  {
   "cell_type": "code",
   "execution_count": 2,
   "metadata": {},
   "outputs": [],
   "source": [
    "device = torch.device('cuda')"
   ]
  },
  {
   "cell_type": "markdown",
   "metadata": {},
   "source": [
    "# Dataset and Data Loader"
   ]
  },
  {
   "cell_type": "code",
   "execution_count": 3,
   "metadata": {
    "collapsed": true
   },
   "outputs": [],
   "source": [
    "def clean_data(data):\n",
    "    data[data == -1] = 0\n",
    "    data[143:167, 223:247][data[143:167, 223:247] == 0] = 1\n",
    "    return data \n",
    "\n",
    "def resize_data(data):\n",
    "    im = Image.fromarray(np.uint8(cm.gist_earth(data, alpha=None)*255)[:, :, :3])\n",
    "    resized_data = np.array(im.resize((112, 76)).convert('L'))\n",
    "    return resized_data/resized_data.max()\n",
    "\n",
    "class SeaIceDataset(Dataset):\n",
    "    \n",
    "    def __init__(self, seq_len, data_folder='./data/*.pkl', return_dims=False):\n",
    "        self.seq_len = seq_len\n",
    "        self.data_files = glob(data_folder)\n",
    "        self.return_dims = return_dims\n",
    "        \n",
    "    def __len__(self):\n",
    "        return len(self.data_files) - (self.seq_len + 1)\n",
    "    \n",
    "    def __getitem__(self, ix):\n",
    "        X = torch.tensor([resize_data(clean_data(np.array(np.load(d)))) for d in self.data_files[ix:ix+self.seq_len]], dtype=torch.float32)\n",
    "        y = resize_data(clean_data(np.load(self.data_files[ix+self.seq_len+1]))).flatten().astype(np.float32)\n",
    "        \n",
    "        if self.return_dims:\n",
    "            trans = UpperDiagonalThresholdedLogTransform(.1)\n",
    "            # Read in the dim0, and dim1 data.\n",
    "            dim0 = [trans(torch.tensor(np.load('./barcodes/dim0/{}'.format(d.split('/')[-1].split('.')[0] + '_dim0.npy')))) for d in self.data_files[ix:ix+self.seq_len]]\n",
    "            dim1 = [trans(torch.tensor(np.load('./barcodes/dim1/{}'.format(d.split('/')[-1].split('.')[0] + '_dim1.npy')))) for d in self.data_files[ix:ix+self.seq_len]]\n",
    "            return X, dim0, dim1, y\n",
    "        else:\n",
    "            return X, y"
   ]
  },
  {
   "cell_type": "markdown",
   "metadata": {},
   "source": [
    "# Examining input data in context of LSTM"
   ]
  },
  {
   "cell_type": "code",
   "execution_count": 4,
   "metadata": {
    "collapsed": true
   },
   "outputs": [],
   "source": [
    "class ConvBlock(torch.nn.Module):\n",
    "    \n",
    "    def __init__(self):\n",
    "        super(ConvBlock, self).__init__()\n",
    "        self.conv_block = torch.nn.Sequential(\n",
    "            torch.nn.Conv2d(1, 8, kernel_size=3, padding=1),\n",
    "            torch.nn.ReLU(),\n",
    "            torch.nn.MaxPool2d(kernel_size=2), # 152\n",
    "            torch.nn.Conv2d(8, 4, kernel_size=3, padding=1),\n",
    "            torch.nn.ReLU(),\n",
    "            torch.nn.MaxPool2d(kernel_size=2), # 76\n",
    "            torch.nn.Conv2d(4, 2, kernel_size=3, padding=1),\n",
    "            torch.nn.ReLU(),\n",
    "            torch.nn.MaxPool2d(kernel_size=2),\n",
    "            torch.nn.Conv2d(2, 1, kernel_size=1),\n",
    "            torch.nn.ReLU()# 1x38x56\n",
    "        )\n",
    "    \n",
    "    def forward(self, x):\n",
    "        return self.conv_block(x)\n",
    "\n",
    "    \n",
    "class autoencoder(torch.nn.Module):\n",
    "    def __init__(self):\n",
    "        super(autoencoder, self).__init__()\n",
    "        self.encoder = torch.nn.Sequential(\n",
    "            torch.nn.Conv2d(1, 16, 3,  padding=1),\n",
    "            torch.nn.BatchNorm2d(16),# b, 16, 10, 10\n",
    "            torch.nn.ReLU(True),\n",
    "            torch.nn.Conv2d(16, 16, 3, padding=1),\n",
    "            torch.nn.BatchNorm2d(16),# b, 16, 10, 10\n",
    "            torch.nn.ReLU(True),\n",
    "            torch.nn.MaxPool2d(kernel_size=(2,2)),\n",
    "            \n",
    "            torch.nn.Conv2d(16, 8, 3, padding=1),  # b, 8, 3, 3\n",
    "            torch.nn.BatchNorm2d(8),\n",
    "            torch.nn.ReLU(True),\n",
    "            torch.nn.Conv2d(8, 1, 3, padding=1),  # b, 8, 3, 3\n",
    "            torch.nn.BatchNorm2d(1),\n",
    "            torch.nn.ReLU(True),\n",
    "            torch.nn.MaxPool2d(kernel_size=(2,2))\n",
    "        )\n",
    "        self.decoder = nn.Sequential(\n",
    "            torch.nn.Conv2d(1, 8, 3, padding=1),\n",
    "            torch.nn.BatchNorm2d(8),# b, 16, 10, 10\n",
    "            torch.nn.ReLU(True),\n",
    "            torch.nn.Conv2d(8, 16, 3, padding=1),\n",
    "            torch.nn.BatchNorm2d(16),# b, 16, 10, 10\n",
    "            torch.nn.ReLU(True),\n",
    "            torch.nn.ConvTranspose2d(16, 16, kernel_size=(2,2), stride=2),\n",
    "            \n",
    "            # b, 16, 5, 5\n",
    "            torch.nn.Conv2d(16, 8, 3, padding=1),\n",
    "            torch.nn.BatchNorm2d(8),# b, 16, 10, 10\n",
    "            torch.nn.ReLU(True),\n",
    "            torch.nn.Conv2d(8, 8, 3, padding=1),\n",
    "            torch.nn.BatchNorm2d(8),# b, 16, 10, 10\n",
    "            torch.nn.ReLU(True),\n",
    "            torch.nn.ConvTranspose2d(8, 1, kernel_size=(2,2), stride=2),\n",
    "#             nn.ConvTranspose2d(8, 1, 2, stride=2, padding=1),  # b, 1, 28, 28\n",
    "            torch.nn.Sigmoid()\n",
    "        )\n",
    "\n",
    "    def forward(self, x):\n",
    "        x = self.encoder(x)\n",
    "        x = self.decoder(x)\n",
    "        return x\n",
    "    \n",
    "    \n",
    "class AutoLSTM(torch.nn.Module):\n",
    "    \n",
    "    def __init__(self, encoder, decoder, input_dim, batch_size, hidden_dim, seq_length, num_layers, homology=False, N=75):\n",
    "        super(AutoLSTM, self).__init__()\n",
    "        \n",
    "        # LSTM Variables.\n",
    "        self.seq_length = seq_length\n",
    "        self.num_layers = num_layers\n",
    "        self.batch_size = batch_size\n",
    "        self.hidden_dim = hidden_dim\n",
    "        self.input_size = input_dim\n",
    "        \n",
    "        # Homology info.\n",
    "        self.homology = homology\n",
    "        self.N = N\n",
    "        \n",
    "        # Encoder, decoder models.\n",
    "        self.encoder = encoder\n",
    "        self.decoder = decoder\n",
    "        \n",
    "        # Add the encoder to the model and turn off gradients for it.\n",
    "        self.add_module('encoder', self.encoder)\n",
    "        self.decoder.eval()\n",
    "        for param in self.encoder.parameters():\n",
    "            param.requires_grad = False\n",
    "        \n",
    "        # Adding decoder letting model change up its gradients.\n",
    "        self.add_module('decoder', self.decoder)\n",
    "        self.decoder.eval()\n",
    "        for param in self.decoder.parameters():\n",
    "            param.requires_grad = False\n",
    "            \n",
    "        # Increase input for topo signatures.\n",
    "        if self.homology:\n",
    "            self.input_size = self.input_size + self.N*2\n",
    "            self.slayer_dim0 = SLayer(self.N)\n",
    "            self.slayer_dim1 = SLayer(self.N)\n",
    "        else:\n",
    "            self.N = 0\n",
    "            \n",
    "        self.lstm = torch.nn.LSTM(self.input_size, self.hidden_dim, num_layers=self.num_layers, \n",
    "                                  batch_first=True, dropout=.1)\n",
    "        self.hidden = self.init_hidden()\n",
    "        \n",
    "    staticmethod\n",
    "    def collation_station(self, batch):\n",
    "        \"\"\"\n",
    "        Custom collation method for joining the batchs together\n",
    "        based on seq length also.\n",
    "        \"\"\"\n",
    "        # Collate X, and y batches as normal.\n",
    "        X = torch.stack([b[0] for b in batch], 0)\n",
    "        y = torch.stack([torch.from_numpy(b[-1]) for b in batch], 0)\n",
    "        \n",
    "        # For each batch prepare the dim0 and dim1 homology features together.\n",
    "        dim0_batch = []\n",
    "        dim1_batch = []\n",
    "        for b in batch:\n",
    "            dim0_batch += b[1]\n",
    "            dim1_batch += b[2]\n",
    "        dim0 = prepare_batch(dim0_batch)\n",
    "        del dim0_batch\n",
    "        dim1 = prepare_batch(dim1_batch)\n",
    "        del dim1_batch\n",
    "        return X, dim0, dim1, y\n",
    "        \n",
    "    def init_hidden(self):\n",
    "        # This is what we'll initialise our hidden state as\n",
    "        return (torch.randn(self.num_layers, self.batch_size, self.hidden_dim, device=device),\n",
    "                torch.randn(self.num_layers, self.batch_size, self.hidden_dim, device=device))\n",
    "    \n",
    "    def forward(self, x, dim0=torch.tensor([], device=device), dim1=torch.tensor([], device=device)):\n",
    "        # X is (batch, seq, w, h)\n",
    "        # Run inputs throuh conv nets.\n",
    "        x = torch.cat([self.encoder(x[:, [ix], :, :]) for ix in range(self.seq_length)], dim=1)\n",
    "        \n",
    "        # Concatenate them.\n",
    "        x = x.view(self.batch_size, self.seq_length, self.input_size - self.N*2)\n",
    "        \n",
    "        # Add the homology features.\n",
    "        if self.homology:\n",
    "            x = torch.cat([x, \n",
    "                           self.slayer_dim0(dim0).view(self.batch_size, self.seq_length, -1), \n",
    "                           self.slayer_dim1(dim1).view(self.batch_size, self.seq_length, -1)], dim=2)\n",
    "            del dim0, dim1\n",
    "\n",
    "        # Run through the lstm network.\n",
    "        x, self.hidden = self.lstm(x, self.hidden)   \n",
    "        \n",
    "        # Run through the final decoder.\n",
    "        x = self.decoder(x[:, -1, :].view(self.batch_size, 1, 19, 28))\n",
    "        x = x.view(-1, 1, 8512)\n",
    "        return x"
   ]
  },
  {
   "cell_type": "markdown",
   "metadata": {},
   "source": [
    "# Training params"
   ]
  },
  {
   "cell_type": "code",
   "execution_count": 5,
   "metadata": {
    "collapsed": true
   },
   "outputs": [],
   "source": [
    "seq_length = 8\n",
    "num_layers = 1\n",
    "batch_size = 8\n",
    "hidden_dim = 19*28\n",
    "input_size = 19*28\n",
    "N = 10\n",
    "n_epochs = 10"
   ]
  },
  {
   "cell_type": "code",
   "execution_count": 6,
   "metadata": {},
   "outputs": [],
   "source": [
    "auto = torch.load('autoencoder_paperv4.model')"
   ]
  },
  {
   "cell_type": "code",
   "execution_count": 7,
   "metadata": {},
   "outputs": [
    {
     "name": "stderr",
     "output_type": "stream",
     "text": [
      "/uufs/chpc.utah.edu/common/home/u0897718/comp_topo/CompTopoProg/hofer.py:197: FutureWarning: Renaming in progress. In future use SLayerExponential.\n",
      "  warnings.warn(\"Renaming in progress. In future use SLayerExponential.\", FutureWarning)\n",
      "/uufs/chpc.utah.edu/common/home/u0897718/MYTF/lib/python3.6/site-packages/torch/nn/modules/rnn.py:46: UserWarning: dropout option adds dropout after all but last recurrent layer, so non-zero dropout expects num_layers greater than 1, but got dropout=0.1 and num_layers=1\n",
      "  \"num_layers={}\".format(dropout, num_layers))\n"
     ]
    }
   ],
   "source": [
    "model = AutoLSTM(\n",
    "    homology=True, N=N,\n",
    "    input_dim=input_size, seq_length=seq_length,\n",
    "    hidden_dim=hidden_dim, batch_size=batch_size,\n",
    "    num_layers=num_layers, encoder=auto.encoder, decoder=auto.decoder,).to(device)\n",
    "\n",
    "si_dataset = SeaIceDataset(seq_length, return_dims=True)\n",
    "train_loader = DataLoader(si_dataset, shuffle=True, batch_size=batch_size, num_workers=0, drop_last=True, collate_fn=model.collation_station)\n",
    "\n",
    "# model = torch.load('good')\n",
    "\n",
    "optimizer = torch.optim.Adam(model.parameters(), lr=0.00001, weight_decay=1e-5)\n",
    "criterion = torch.nn.MSELoss()\n",
    "\n",
    "loss_mask = torch.tensor(np.load('resize_mask.npy').flatten().astype('float32')).cuda()"
   ]
  },
  {
   "cell_type": "markdown",
   "metadata": {},
   "source": [
    "# Homology Training"
   ]
  },
  {
   "cell_type": "code",
   "execution_count": null,
   "metadata": {},
   "outputs": [
    {
     "name": "stdout",
     "output_type": "stream",
     "text": [
      "epoch: 0\n"
     ]
    }
   ],
   "source": [
    "for epoch in range(n_epochs):\n",
    "    print(\"epoch: {}\".format(epoch))\n",
    "    \n",
    "    model.train()\n",
    "    train_losses = []\n",
    "    for ix, (X, dim0, dim1, y) in enumerate(train_loader):\n",
    "        # Empty out the grads.\n",
    "        optimizer.zero_grad()\n",
    "        \n",
    "        X = X.to(device)\n",
    "        y = y.to(device)\n",
    "        dim0 = (dim0[0].cuda(), dim0[1].cuda(), dim0[2], dim0[3])\n",
    "        dim1 = (dim1[0].cuda(), dim1[1].cuda(), dim1[2], dim1[3])\n",
    "        \n",
    "        out = model(X, dim0, dim1)\n",
    "        \n",
    "        loss = criterion(out*loss_mask, y*loss_mask)\n",
    "        loss.backward(retain_graph=True)\n",
    "        optimizer.step()\n",
    "        train_losses.append(loss.detach().item())\n",
    "        \n",
    "        del out, X, y, loss, dim0, dim1\n",
    "    \n",
    "    print(\"loss: {}\".format(train_losses[-1]))"
   ]
  },
  {
   "cell_type": "code",
   "execution_count": null,
   "metadata": {
    "collapsed": true
   },
   "outputs": [],
   "source": [
    "for X,y in train_loader:\n",
    "    break"
   ]
  },
  {
   "cell_type": "code",
   "execution_count": null,
   "metadata": {},
   "outputs": [],
   "source": [
    "preds = model(X.to(device))"
   ]
  },
  {
   "cell_type": "code",
   "execution_count": 81,
   "metadata": {},
   "outputs": [
    {
     "data": {
      "text/plain": [
       "<matplotlib.image.AxesImage at 0x2b253bc57f98>"
      ]
     },
     "execution_count": 81,
     "metadata": {},
     "output_type": "execute_result"
    },
    {
     "data": {
      "image/png": "[encoded data removed]",
      "text/plain": [
       "<Figure size 432x288 with 1 Axes>"
      ]
     },
     "metadata": {},
     "output_type": "display_data"
    }
   ],
   "source": [
    "plt.imshow(X[ix, 9, :,:])"
   ]
  },
  {
   "cell_type": "code",
   "execution_count": 82,
   "metadata": {},
   "outputs": [
    {
     "data": {
      "text/plain": [
       "<matplotlib.image.AxesImage at 0x2b253be1d7b8>"
      ]
     },
     "execution_count": 82,
     "metadata": {},
     "output_type": "execute_result"
    },
    {
     "data": {
      "image/png": "[encoded data removed]",
      "text/plain": [
       "<Figure size 432x288 with 1 Axes>"
      ]
     },
     "metadata": {},
     "output_type": "display_data"
    }
   ],
   "source": [
    "plt.imshow(X[ix, 10, :,:])"
   ]
  },
  {
   "cell_type": "code",
   "execution_count": 83,
   "metadata": {},
   "outputs": [
    {
     "data": {
      "text/plain": [
       "<matplotlib.image.AxesImage at 0x2b255b9851d0>"
      ]
     },
     "execution_count": 83,
     "metadata": {},
     "output_type": "execute_result"
    },
    {
     "data": {
      "image/png": "[encoded data removed]",
      "text/plain": [
       "<Figure size 432x288 with 1 Axes>"
      ]
     },
     "metadata": {},
     "output_type": "display_data"
    }
   ],
   "source": [
    "plt.imshow(X[ix, 11, :, :])"
   ]
  },
  {
   "cell_type": "code",
   "execution_count": 84,
   "metadata": {},
   "outputs": [
    {
     "data": {
      "text/plain": [
       "<matplotlib.image.AxesImage at 0x2b255b9d9c50>"
      ]
     },
     "execution_count": 84,
     "metadata": {},
     "output_type": "execute_result"
    },
    {
     "data": {
      "image/png": "[encoded data removed]",
      "text/plain": [
       "<Figure size 432x288 with 1 Axes>"
      ]
     },
     "metadata": {},
     "output_type": "display_data"
    }
   ],
   "source": [
    "plt.imshow(y[ix].detach().numpy().reshape(76, 112))"
   ]
  },
  {
   "cell_type": "code",
   "execution_count": 85,
   "metadata": {},
   "outputs": [
    {
     "data": {
      "text/plain": [
       "<matplotlib.image.AxesImage at 0x2b255dbdd7b8>"
      ]
     },
     "execution_count": 85,
     "metadata": {},
     "output_type": "execute_result"
    },
    {
     "data": {
      "image/png": "[encoded data removed]",
      "text/plain": [
       "<Figure size 432x288 with 1 Axes>"
      ]
     },
     "metadata": {},
     "output_type": "display_data"
    }
   ],
   "source": [
    "plt.imshow(preds[ix,:, :].cpu().detach().numpy().reshape(76, 112))"
   ]
  }
 ],
 "metadata": {
  "kernelspec": {
   "display_name": "Python 3",
   "language": "python",
   "name": "python3"
  },
  "language_info": {
   "codemirror_mode": {
    "name": "ipython",
    "version": 3
   },
   "file_extension": ".py",
   "mimetype": "text/x-python",
   "name": "python",
   "nbconvert_exporter": "python",
   "pygments_lexer": "ipython3",
   "version": "3.6.3"
  }
 },
 "nbformat": 4,
 "nbformat_minor": 2
}
